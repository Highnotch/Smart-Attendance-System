{
 "cells": [
  {
   "cell_type": "code",
   "execution_count": 18,
   "id": "28beb272",
   "metadata": {},
   "outputs": [],
   "source": [
    "import face_recognition\n",
    "import os\n",
    "import cv2\n",
    "\n",
    "# Load images from the directory and create a list of face encodings\n",
    "known_encodings = []\n",
    "known_names = []\n",
    "for filename in os.listdir('/Users/sujith/Desktop/dp_project/Training_images'):\n",
    "    if filename==\".DS_Store\":\n",
    "        pass\n",
    "    else:\n",
    "        \n",
    "        image = face_recognition.load_image_file('/Users/sujith/Desktop/dp_project/Training_images/' + filename)\n",
    "        encoding = face_recognition.face_encodings(image)[0]\n",
    "        known_encodings.append(encoding)\n",
    "        name = os.path.splitext(filename)[0]\n",
    "        known_names.append(name)\n",
    "\n",
    "# Load unknown images from the directory and label the faces\n",
    "for filename in os.listdir('/Users/sujith/Desktop/dp_project/test_images'):\n",
    "    if filename==\".DS_Store\":\n",
    "        pass\n",
    "    else:\n",
    "        \n",
    "        image = face_recognition.load_image_file('/Users/sujith/Desktop/dp_project/test_images/' + filename)\n",
    "        locations = face_recognition.face_locations(image)\n",
    "        encodings = face_recognition.face_encodings(image, locations)\n",
    "        for encoding, location in zip(encodings, locations):\n",
    "            matches = face_recognition.compare_faces(known_encodings, encoding, tolerance=0.7)\n",
    "            if True in matches:\n",
    "                name = known_names[matches.index(True)]\n",
    "            else:\n",
    "                name = \"Unknown\"\n",
    "            top, right, bottom, left = location\n",
    "            face_image = image[top:bottom, left:right]\n",
    "            # Draw a box around the face and label it\n",
    "            face_label = name + \" \" + str(round(face_recognition.face_distance(known_encodings, encoding)[0], 2))\n",
    "            cv2.rectangle(image, (left, top), (right, bottom), (0, 0, 255), 2)\n",
    "            cv2.putText(image, face_label, (left, top - 10), cv2.FONT_HERSHEY_SIMPLEX, 0.5, (0, 0, 255), 2)\n",
    "        # Save the labeled image to the output directory\n",
    "        cv2.imwrite('/Users/sujith/Desktop/dp_project/save_loc/' + filename, image)\n"
   ]
  },
  {
   "cell_type": "code",
   "execution_count": 11,
   "id": "e1759e92",
   "metadata": {},
   "outputs": [
    {
     "data": {
      "text/plain": [
       "'Sujith'"
      ]
     },
     "execution_count": 11,
     "metadata": {},
     "output_type": "execute_result"
    }
   ],
   "source": [
    "name"
   ]
  },
  {
   "cell_type": "code",
   "execution_count": 12,
   "id": "bd358212",
   "metadata": {},
   "outputs": [
    {
     "data": {
      "text/plain": [
       "[False, True, True]"
      ]
     },
     "execution_count": 12,
     "metadata": {},
     "output_type": "execute_result"
    }
   ],
   "source": [
    "matches"
   ]
  },
  {
   "cell_type": "code",
   "execution_count": 13,
   "id": "250ac64a",
   "metadata": {},
   "outputs": [
    {
     "data": {
      "text/plain": [
       "['Aman', 'Sujith', 'Bhunia']"
      ]
     },
     "execution_count": 13,
     "metadata": {},
     "output_type": "execute_result"
    }
   ],
   "source": [
    "known_names"
   ]
  },
  {
   "cell_type": "code",
   "execution_count": null,
   "id": "eb14dfc8",
   "metadata": {},
   "outputs": [],
   "source": []
  }
 ],
 "metadata": {
  "kernelspec": {
   "display_name": "Python 3 (ipykernel)",
   "language": "python",
   "name": "python3"
  },
  "language_info": {
   "codemirror_mode": {
    "name": "ipython",
    "version": 3
   },
   "file_extension": ".py",
   "mimetype": "text/x-python",
   "name": "python",
   "nbconvert_exporter": "python",
   "pygments_lexer": "ipython3",
   "version": "3.9.13"
  }
 },
 "nbformat": 4,
 "nbformat_minor": 5
}
