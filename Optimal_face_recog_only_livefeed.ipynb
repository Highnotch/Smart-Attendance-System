{
 "cells": [
  {
   "cell_type": "code",
   "execution_count": null,
   "id": "e02ca729-a74e-45c4-bf2b-e4a800b7bdd4",
   "metadata": {},
   "outputs": [
    {
     "name": "stderr",
     "output_type": "stream",
     "text": [
      "2023-08-28 15:43:21.003 python[98513:1482757] IMKClient Stall detected, *please Report* your user scenario attaching a spindump (or sysdiagnose) that captures the problem - (imkxpc_bundleIdentifierWithReply:) block performed very slowly (1.28 secs).\n"
     ]
    }
   ],
   "source": [
    "import face_recognition\n",
    "import cv2\n",
    "import os\n",
    "import pickle as pkl\n",
    "import numpy as np\n",
    "\n",
    "\n",
    "\n",
    "\n",
    "\n",
    "# Load the known faces and their names\n",
    "filename=\"/Users/sujith/Desktop/dp_project/Face-Recognition-Attendance-Projects-main/data.pkl\"\n",
    "face_pkl=open(filename,\"rb\")\n",
    "known_faces=pkl.load(face_pkl)\n",
    "\n",
    "\n",
    "known_names=os.listdir(\"/Users/sujith/Desktop/dp_project/Face-Recognition-Attendance-Projects-main/Training_images\")\n",
    "known_names.remove(\".DS_Store\")\n",
    "\n",
    "\n",
    "# Initialize the camera\n",
    "video_capture = cv2.VideoCapture(0)\n",
    "\n",
    "\n",
    "\n",
    "while True:\n",
    "    # Capture a frame from the camera\n",
    "    ret, frame = video_capture.read()\n",
    "    \n",
    "    \n",
    "\n",
    "    # Find all the faces in the frame\n",
    "    face_locations = face_recognition.face_locations(frame)\n",
    "    face_encodings = face_recognition.face_encodings(frame, face_locations)\n",
    "    \n",
    "    \n",
    "    \n",
    "\n",
    "    # Loop through each face in the frame\n",
    "    for face_encoding, face_location in zip(face_encodings, face_locations):\n",
    "        \n",
    "        # Try to match the face with the known faces\n",
    "        matches = face_recognition.compare_faces(known_faces, face_encoding,tolerance=0.5)\n",
    "        name = \"Unknown\"\n",
    "        \n",
    "        \n",
    "\n",
    "        # Find the best match\n",
    "        face_distances = face_recognition.face_distance(known_faces, face_encoding)\n",
    "        best_match_index = np.argmin(face_distances)\n",
    "        if matches[best_match_index]:\n",
    "            name = known_names[best_match_index]\n",
    "            \n",
    "            \n",
    "            \n",
    "\n",
    "        # Drawing  a box around the face and labelling it\n",
    "        top, right, bottom, left = face_location\n",
    "        cv2.rectangle(frame, (left, top), (right, bottom), (0, 0, 255), 2)\n",
    "        cv2.putText(frame, name, (left + 6, bottom - 6), cv2.FONT_HERSHEY_SIMPLEX, 2.0, (255, 255, 255), 1)\n",
    "        \n",
    "        \n",
    "        \n",
    "\n",
    "    # Display the resulting image\n",
    "    cv2.imshow(\"Video\", frame)\n",
    "    \n",
    "    \n",
    "\n",
    "    \n",
    "\n",
    "    # Wait for the user to press 'q' to quit\n",
    "    if cv2.waitKey(1) & 0xFF == ord('q'):\n",
    "       break\n",
    "\n",
    "\n",
    "\n",
    "# Release the camera and close all windows\n",
    "video_capture.release()\n",
    "cv2.destroyAllWindows()\n",
    "\n"
   ]
  },
  {
   "cell_type": "code",
   "execution_count": 2,
   "id": "eee639aa-3ae7-453f-abee-c79b87db4429",
   "metadata": {},
   "outputs": [],
   "source": [
    "video_capture.release()"
   ]
  },
  {
   "cell_type": "code",
   "execution_count": null,
   "id": "df3311e9-0f1a-4b2e-bc39-86bf7c539c81",
   "metadata": {},
   "outputs": [],
   "source": []
  }
 ],
 "metadata": {
  "kernelspec": {
   "display_name": "Python 3 (ipykernel)",
   "language": "python",
   "name": "python3"
  },
  "language_info": {
   "codemirror_mode": {
    "name": "ipython",
    "version": 3
   },
   "file_extension": ".py",
   "mimetype": "text/x-python",
   "name": "python",
   "nbconvert_exporter": "python",
   "pygments_lexer": "ipython3",
   "version": "3.9.13"
  }
 },
 "nbformat": 4,
 "nbformat_minor": 5
}
