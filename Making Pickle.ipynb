{
 "cells": [
  {
   "cell_type": "code",
   "execution_count": 1,
   "id": "6ff661cf",
   "metadata": {},
   "outputs": [],
   "source": [
    "import face_recognition\n",
    "import cv2\n",
    "import os\n",
    "import numpy as np\n",
    "import pickle as pkl"
   ]
  },
  {
   "cell_type": "code",
   "execution_count": 2,
   "id": "8b56e410-550c-444c-a29f-9b056b78a68a",
   "metadata": {},
   "outputs": [],
   "source": [
    "\n",
    "\n",
    "###### UNDER CONSTRUCTION( DONT RUN THIS CODE BIT ) ***************\n",
    "\n",
    "\n",
    "\n",
    "\n",
    "\n",
    "# Define a function to save the images of new faces\n",
    "def save_images(images, name):\n",
    "    if not os.path.exists(\"/Users/sujith/Desktop/dp_project/Face-Recognition-Attendance-Projects-main/Training_images\"):\n",
    "        os.mkdir(\"known_faces\")\n",
    "    path = os.path.join(\"known_faces\", name)\n",
    "    if not os.path.exists(path):\n",
    "        os.mkdir(path)\n",
    "    for i, image in enumerate(images):\n",
    "        filename = os.path.join(path, f\"{name}_{i}.jpg\")\n",
    "        cv2.imwrite(filename, image)\n"
   ]
  },
  {
   "cell_type": "raw",
   "id": "331089cd-ba40-4b12-ab6c-0962c96445ce",
   "metadata": {},
   "source": [
    "\n",
    "\n",
    "\n",
    "\n",
    "\n",
    "#FOR SAVING THE TRAINING DATA FACE_ENCODING AS PICKLE FILE AND STORE IT IN LOCAL \n",
    "\n",
    "\n",
    "\n",
    "\n",
    "\n"
   ]
  },
  {
   "cell_type": "code",
   "execution_count": 4,
   "id": "3967c2a2-88d0-4e1e-a6b3-0719a265717d",
   "metadata": {},
   "outputs": [
    {
     "name": "stdout",
     "output_type": "stream",
     "text": [
      "0.2453618049621582\n",
      "0.16544389724731445\n",
      "1.1007421016693115\n",
      "0.16493916511535645\n"
     ]
    }
   ],
   "source": [
    "# Load the known faces and their names\n",
    "known_faces = []\n",
    "#known_names = []\n",
    "#for name in os.listdir(\"known_faces\"):\n",
    "#    for filename in os.listdir(os.path.join(\"known_faces\", name)):\n",
    "#       image = face_recognition.load_image_file(os.path.join(\"known_faces\", name, filename))\n",
    "#       face_encoding = face_recognition.face_encodings(image)[0]\n",
    "#       known_faces.append(face_encoding)\n",
    "#       known_names.append(name)\n",
    "        \n",
    "import time\n",
    "import glob\n",
    "import os\n",
    "pic_all=glob.glob(os.path.join(\"/Users/sujith/Desktop/dp_project/Face-Recognition-Attendance-Projects-main/Train\", '*'))\n",
    "for i in pic_all:\n",
    "    a=time.time()\n",
    "    image=face_recognition.load_image_file(i)\n",
    "    face_encoding=face_recognition.face_encodings(image,num_jitters=2)[0]\n",
    "    known_faces.append(face_encoding)\n",
    "    b=time.time()\n",
    "    print(b-a)\n",
    "known_names=os.listdir(\"/Users/sujith/Desktop/dp_project/Face-Recognition-Attendance-Projects-main/Train\")\n",
    "known_names.remove(\".DS_Store\")\n",
    "\n"
   ]
  },
  {
   "cell_type": "code",
   "execution_count": 5,
   "id": "d001c460-aa80-4359-bc1f-9711b5fdb170",
   "metadata": {},
   "outputs": [
    {
     "data": {
      "text/plain": [
       "4"
      ]
     },
     "execution_count": 5,
     "metadata": {},
     "output_type": "execute_result"
    }
   ],
   "source": [
    "\n",
    "len(known_faces)"
   ]
  },
  {
   "cell_type": "code",
   "execution_count": 6,
   "id": "88820f0d-f57c-4eea-a443-771b6d06d1f2",
   "metadata": {},
   "outputs": [],
   "source": [
    "import pickle as pkl\n",
    "import numpy as np"
   ]
  },
  {
   "cell_type": "code",
   "execution_count": 7,
   "id": "0b96361b-25ad-4c7f-a5dc-dd3e30dbbfd0",
   "metadata": {},
   "outputs": [],
   "source": [
    "filename = \"/Users/sujith/Desktop/dp_project/Face-Recognition-Attendance-Projects-main/\"+\"data_home.pkl\"\n",
    "#fileObject = open(filename, 'wb')\n",
    "with open(filename, 'wb') as f:\n",
    "    pkl.dump(known_faces, f)"
   ]
  },
  {
   "cell_type": "code",
   "execution_count": 8,
   "id": "c8545a23-4805-412f-a7b1-1eaae9a7f472",
   "metadata": {},
   "outputs": [
    {
     "data": {
      "text/plain": [
       "['Nanna.jpeg', 'Sujith.jpeg', 'madhavi.jpeg', 'nikhil.jpeg']"
      ]
     },
     "execution_count": 8,
     "metadata": {},
     "output_type": "execute_result"
    }
   ],
   "source": [
    "known_names"
   ]
  },
  {
   "cell_type": "code",
   "execution_count": null,
   "id": "46273ded-95b8-40ea-b1fc-d4ab1e6a4159",
   "metadata": {},
   "outputs": [],
   "source": []
  },
  {
   "cell_type": "raw",
   "id": "00bc16cc-b299-4c30-8e00-3bd9c4e1d862",
   "metadata": {},
   "source": [
    "##### Everything Below dont run *********************\n",
    "\n"
   ]
  },
  {
   "cell_type": "code",
   "execution_count": 50,
   "id": "ed7493c7",
   "metadata": {},
   "outputs": [
    {
     "data": {
      "text/plain": [
       "['/Users/sujith/Desktop/dp_project/Face-Recognition-Attendance-Projects-main/Training_images/Aman.jpg',\n",
       " '/Users/sujith/Desktop/dp_project/Face-Recognition-Attendance-Projects-main/Training_images/Sujith.jpg',\n",
       " '/Users/sujith/Desktop/dp_project/Face-Recognition-Attendance-Projects-main/Training_images/Bhunia.jpg']"
      ]
     },
     "execution_count": 50,
     "metadata": {},
     "output_type": "execute_result"
    }
   ],
   "source": [
    "pic_all"
   ]
  },
  {
   "cell_type": "code",
   "execution_count": 55,
   "id": "35456a3f",
   "metadata": {
    "collapsed": true,
    "jupyter": {
     "outputs_hidden": true
    }
   },
   "outputs": [],
   "source": [
    "known_names=os.listdir(\"/Users/sujith/Desktop/dp_project/Face-Recognition-Attendance-Projects-main/Training_images\")\n",
    "known_names.remove(\".DS_Store\")\n"
   ]
  },
  {
   "cell_type": "code",
   "execution_count": 9,
   "id": "8752327c",
   "metadata": {},
   "outputs": [
    {
     "data": {
      "text/plain": [
       "['Nanna.jpeg', 'Sujith.jpeg', 'madhavi.jpeg', 'nikhil.jpeg']"
      ]
     },
     "execution_count": 9,
     "metadata": {},
     "output_type": "execute_result"
    }
   ],
   "source": [
    "known_names"
   ]
  },
  {
   "cell_type": "code",
   "execution_count": 12,
   "id": "96d95b79",
   "metadata": {},
   "outputs": [
    {
     "ename": "NameError",
     "evalue": "name 'cv' is not defined",
     "output_type": "error",
     "traceback": [
      "\u001b[0;31m---------------------------------------------------------------------------\u001b[0m",
      "\u001b[0;31mNameError\u001b[0m                                 Traceback (most recent call last)",
      "\u001b[0;32m/var/folders/ck/rbps10m94bn2b289xb06y9pw0000gn/T/ipykernel_55872/3803413468.py\u001b[0m in \u001b[0;36m<module>\u001b[0;34m\u001b[0m\n\u001b[0;32m----> 1\u001b[0;31m \u001b[0mcv\u001b[0m\u001b[0;34m.\u001b[0m\u001b[0mrelease\u001b[0m\u001b[0;34m(\u001b[0m\u001b[0;34m)\u001b[0m\u001b[0;34m\u001b[0m\u001b[0;34m\u001b[0m\u001b[0m\n\u001b[0m",
      "\u001b[0;31mNameError\u001b[0m: name 'cv' is not defined"
     ]
    }
   ],
   "source": [
    "cv.release()"
   ]
  },
  {
   "cell_type": "code",
   "execution_count": 13,
   "id": "ce089a2b",
   "metadata": {},
   "outputs": [],
   "source": [
    "import cv2"
   ]
  },
  {
   "cell_type": "code",
   "execution_count": 14,
   "id": "8ad57893",
   "metadata": {},
   "outputs": [
    {
     "ename": "AttributeError",
     "evalue": "module 'cv2' has no attribute 'Capture'",
     "output_type": "error",
     "traceback": [
      "\u001b[0;31m---------------------------------------------------------------------------\u001b[0m",
      "\u001b[0;31mAttributeError\u001b[0m                            Traceback (most recent call last)",
      "\u001b[0;32m/var/folders/ck/rbps10m94bn2b289xb06y9pw0000gn/T/ipykernel_55872/3363099713.py\u001b[0m in \u001b[0;36m<module>\u001b[0;34m\u001b[0m\n\u001b[0;32m----> 1\u001b[0;31m \u001b[0mcv2\u001b[0m\u001b[0;34m.\u001b[0m\u001b[0mCapture\u001b[0m\u001b[0;34m.\u001b[0m\u001b[0mrelease\u001b[0m\u001b[0;34m(\u001b[0m\u001b[0;34m)\u001b[0m\u001b[0;34m\u001b[0m\u001b[0;34m\u001b[0m\u001b[0m\n\u001b[0m",
      "\u001b[0;31mAttributeError\u001b[0m: module 'cv2' has no attribute 'Capture'"
     ]
    }
   ],
   "source": [
    "cv2.Capture.release()"
   ]
  },
  {
   "cell_type": "code",
   "execution_count": 15,
   "id": "dd549a97",
   "metadata": {},
   "outputs": [],
   "source": [
    "cap=cv2.VideoCapture(0) "
   ]
  },
  {
   "cell_type": "code",
   "execution_count": 16,
   "id": "7dd70afe",
   "metadata": {},
   "outputs": [],
   "source": [
    "cap.release()"
   ]
  },
  {
   "cell_type": "code",
   "execution_count": null,
   "id": "14196565",
   "metadata": {},
   "outputs": [],
   "source": []
  }
 ],
 "metadata": {
  "kernelspec": {
   "display_name": "Python 3 (ipykernel)",
   "language": "python",
   "name": "python3"
  },
  "language_info": {
   "codemirror_mode": {
    "name": "ipython",
    "version": 3
   },
   "file_extension": ".py",
   "mimetype": "text/x-python",
   "name": "python",
   "nbconvert_exporter": "python",
   "pygments_lexer": "ipython3",
   "version": "3.9.13"
  }
 },
 "nbformat": 4,
 "nbformat_minor": 5
}
